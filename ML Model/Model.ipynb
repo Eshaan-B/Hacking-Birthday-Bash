{
 "cells": [
  {
   "cell_type": "code",
   "execution_count": 1,
   "id": "43d80a4b",
   "metadata": {},
   "outputs": [],
   "source": [
    "import os\n",
    "import numpy as np\n",
    "import pandas as pd\n",
    "\n",
    "import tensorflow as tf\n",
    "from keras.models import Sequential\n",
    "from keras.layers import Dense, LSTM, Dropout\n",
    "\n",
    "from sklearn.preprocessing import OneHotEncoder\n",
    "\n",
    "from sklearn.metrics import confusion_matrix\n",
    "\n",
    "from sklearn.utils import shuffle\n",
    "\n",
    "import librosa\n",
    "import librosa.display\n",
    "from IPython.display import Audio\n",
    "\n",
    "from matplotlib import pyplot as plt\n",
    "import seaborn as sns\n",
    "\n",
    "import warnings\n",
    "warnings.filterwarnings('ignore')"
   ]
  },
  {
   "cell_type": "code",
   "execution_count": 2,
   "id": "a18ed44b",
   "metadata": {},
   "outputs": [
    {
     "name": "stdout",
     "output_type": "stream",
     "text": [
      "Dataset is Loaded\n"
     ]
    }
   ],
   "source": [
    "paths = []\n",
    "labels = []\n",
    "for dirname, _, filenames in os.walk(\"D:\\DS\\Song Emotion Recognition\\Speech Recog\\TESS Toronto emotional speech set data\"):\n",
    "    for filename in filenames:\n",
    "        paths.append(os.path.join(dirname, filename))\n",
    "        label = filename.split('_')[-1]\n",
    "        label = label.split('.')[0]\n",
    "        labels.append(label.lower())\n",
    "    if len(paths) == 2800:\n",
    "        print('Dataset is Loaded')\n",
    "        break"
   ]
  },
  {
   "cell_type": "code",
   "execution_count": 3,
   "id": "1301a1df",
   "metadata": {},
   "outputs": [
    {
     "data": {
      "text/html": [
       "<div>\n",
       "<style scoped>\n",
       "    .dataframe tbody tr th:only-of-type {\n",
       "        vertical-align: middle;\n",
       "    }\n",
       "\n",
       "    .dataframe tbody tr th {\n",
       "        vertical-align: top;\n",
       "    }\n",
       "\n",
       "    .dataframe thead th {\n",
       "        text-align: right;\n",
       "    }\n",
       "</style>\n",
       "<table border=\"1\" class=\"dataframe\">\n",
       "  <thead>\n",
       "    <tr style=\"text-align: right;\">\n",
       "      <th></th>\n",
       "      <th>audio</th>\n",
       "      <th>label</th>\n",
       "    </tr>\n",
       "  </thead>\n",
       "  <tbody>\n",
       "    <tr>\n",
       "      <th>0</th>\n",
       "      <td>D:\\DS\\Song Emotion Recognition\\Speech Recog\\TE...</td>\n",
       "      <td>angry</td>\n",
       "    </tr>\n",
       "    <tr>\n",
       "      <th>1</th>\n",
       "      <td>D:\\DS\\Song Emotion Recognition\\Speech Recog\\TE...</td>\n",
       "      <td>angry</td>\n",
       "    </tr>\n",
       "    <tr>\n",
       "      <th>2</th>\n",
       "      <td>D:\\DS\\Song Emotion Recognition\\Speech Recog\\TE...</td>\n",
       "      <td>angry</td>\n",
       "    </tr>\n",
       "    <tr>\n",
       "      <th>3</th>\n",
       "      <td>D:\\DS\\Song Emotion Recognition\\Speech Recog\\TE...</td>\n",
       "      <td>angry</td>\n",
       "    </tr>\n",
       "    <tr>\n",
       "      <th>4</th>\n",
       "      <td>D:\\DS\\Song Emotion Recognition\\Speech Recog\\TE...</td>\n",
       "      <td>angry</td>\n",
       "    </tr>\n",
       "  </tbody>\n",
       "</table>\n",
       "</div>"
      ],
      "text/plain": [
       "                                               audio  label\n",
       "0  D:\\DS\\Song Emotion Recognition\\Speech Recog\\TE...  angry\n",
       "1  D:\\DS\\Song Emotion Recognition\\Speech Recog\\TE...  angry\n",
       "2  D:\\DS\\Song Emotion Recognition\\Speech Recog\\TE...  angry\n",
       "3  D:\\DS\\Song Emotion Recognition\\Speech Recog\\TE...  angry\n",
       "4  D:\\DS\\Song Emotion Recognition\\Speech Recog\\TE...  angry"
      ]
     },
     "execution_count": 3,
     "metadata": {},
     "output_type": "execute_result"
    }
   ],
   "source": [
    "d = {'audio': paths, 'label': labels}\n",
    "df = pd.DataFrame(data=d)\n",
    "df.head()"
   ]
  },
  {
   "cell_type": "code",
   "execution_count": 4,
   "id": "767b586b",
   "metadata": {},
   "outputs": [],
   "source": [
    "df = shuffle(df)\n",
    "df = df.sample(frac=1).reset_index(drop=True)"
   ]
  },
  {
   "cell_type": "code",
   "execution_count": 5,
   "id": "3fb5dbf5",
   "metadata": {},
   "outputs": [
    {
     "data": {
      "text/html": [
       "<div>\n",
       "<style scoped>\n",
       "    .dataframe tbody tr th:only-of-type {\n",
       "        vertical-align: middle;\n",
       "    }\n",
       "\n",
       "    .dataframe tbody tr th {\n",
       "        vertical-align: top;\n",
       "    }\n",
       "\n",
       "    .dataframe thead th {\n",
       "        text-align: right;\n",
       "    }\n",
       "</style>\n",
       "<table border=\"1\" class=\"dataframe\">\n",
       "  <thead>\n",
       "    <tr style=\"text-align: right;\">\n",
       "      <th></th>\n",
       "      <th>audio</th>\n",
       "      <th>label</th>\n",
       "    </tr>\n",
       "  </thead>\n",
       "  <tbody>\n",
       "    <tr>\n",
       "      <th>0</th>\n",
       "      <td>D:\\DS\\Song Emotion Recognition\\Speech Recog\\TE...</td>\n",
       "      <td>happy</td>\n",
       "    </tr>\n",
       "    <tr>\n",
       "      <th>1</th>\n",
       "      <td>D:\\DS\\Song Emotion Recognition\\Speech Recog\\TE...</td>\n",
       "      <td>neutral</td>\n",
       "    </tr>\n",
       "    <tr>\n",
       "      <th>2</th>\n",
       "      <td>D:\\DS\\Song Emotion Recognition\\Speech Recog\\TE...</td>\n",
       "      <td>neutral</td>\n",
       "    </tr>\n",
       "    <tr>\n",
       "      <th>3</th>\n",
       "      <td>D:\\DS\\Song Emotion Recognition\\Speech Recog\\TE...</td>\n",
       "      <td>angry</td>\n",
       "    </tr>\n",
       "    <tr>\n",
       "      <th>4</th>\n",
       "      <td>D:\\DS\\Song Emotion Recognition\\Speech Recog\\TE...</td>\n",
       "      <td>disgust</td>\n",
       "    </tr>\n",
       "  </tbody>\n",
       "</table>\n",
       "</div>"
      ],
      "text/plain": [
       "                                               audio    label\n",
       "0  D:\\DS\\Song Emotion Recognition\\Speech Recog\\TE...    happy\n",
       "1  D:\\DS\\Song Emotion Recognition\\Speech Recog\\TE...  neutral\n",
       "2  D:\\DS\\Song Emotion Recognition\\Speech Recog\\TE...  neutral\n",
       "3  D:\\DS\\Song Emotion Recognition\\Speech Recog\\TE...    angry\n",
       "4  D:\\DS\\Song Emotion Recognition\\Speech Recog\\TE...  disgust"
      ]
     },
     "execution_count": 5,
     "metadata": {},
     "output_type": "execute_result"
    }
   ],
   "source": [
    "df.head()"
   ]
  },
  {
   "cell_type": "code",
   "execution_count": 6,
   "id": "56ec8ed9",
   "metadata": {},
   "outputs": [
    {
     "data": {
      "text/plain": [
       "happy      400\n",
       "neutral    400\n",
       "angry      400\n",
       "disgust    400\n",
       "ps         400\n",
       "sad        400\n",
       "fear       400\n",
       "Name: label, dtype: int64"
      ]
     },
     "execution_count": 6,
     "metadata": {},
     "output_type": "execute_result"
    }
   ],
   "source": [
    "df['label'].value_counts()"
   ]
  },
  {
   "cell_type": "code",
   "execution_count": 7,
   "id": "0a4ae37c",
   "metadata": {},
   "outputs": [],
   "source": [
    "def extract_feat(filename):\n",
    "    y, sr = librosa.load(filename, duration=3, offset=0.5)\n",
    "    mfcc = np.mean(librosa.feature.mfcc(y=y, sr=sr, n_mfcc=40).T, axis=0)\n",
    "    return mfcc\n",
    "x_ef = df['audio'].apply(lambda x: extract_feat(x))"
   ]
  },
  {
   "cell_type": "code",
   "execution_count": 8,
   "id": "c5caa5a5",
   "metadata": {},
   "outputs": [
    {
     "data": {
      "text/plain": [
       "pandas.core.series.Series"
      ]
     },
     "execution_count": 8,
     "metadata": {},
     "output_type": "execute_result"
    }
   ],
   "source": [
    "type(x_ef)"
   ]
  },
  {
   "cell_type": "code",
   "execution_count": 9,
   "id": "4b57deca",
   "metadata": {},
   "outputs": [
    {
     "data": {
      "text/plain": [
       "(2800,)"
      ]
     },
     "execution_count": 9,
     "metadata": {},
     "output_type": "execute_result"
    }
   ],
   "source": [
    "x_ef.shape"
   ]
  },
  {
   "cell_type": "code",
   "execution_count": 10,
   "id": "5f78d61c",
   "metadata": {},
   "outputs": [
    {
     "data": {
      "text/plain": [
       "(2800, 40)"
      ]
     },
     "execution_count": 10,
     "metadata": {},
     "output_type": "execute_result"
    }
   ],
   "source": [
    "X = [x for x in x_ef]\n",
    "X = np.array(X)\n",
    "X.shape"
   ]
  },
  {
   "cell_type": "code",
   "execution_count": 11,
   "id": "1a1953a8",
   "metadata": {},
   "outputs": [
    {
     "data": {
      "text/plain": [
       "numpy.ndarray"
      ]
     },
     "execution_count": 11,
     "metadata": {},
     "output_type": "execute_result"
    }
   ],
   "source": [
    "type(X)"
   ]
  },
  {
   "cell_type": "code",
   "execution_count": 14,
   "id": "fe006eb6",
   "metadata": {},
   "outputs": [
    {
     "data": {
      "text/plain": [
       "(2800, 40, 1)"
      ]
     },
     "execution_count": 14,
     "metadata": {},
     "output_type": "execute_result"
    }
   ],
   "source": [
    "#X = np.expand_dims(X,-1)\n",
    "#X.shape"
   ]
  },
  {
   "cell_type": "code",
   "execution_count": 12,
   "id": "2f209bab",
   "metadata": {},
   "outputs": [
    {
     "data": {
      "text/plain": [
       "array([[-307.82648  ,   28.52483  ,  -29.723549 , ...,   -1.8848119,\n",
       "          -5.2645826,   -2.5169687],\n",
       "       [-387.16562  ,  103.01318  ,  -13.825495 , ...,   27.681023 ,\n",
       "           7.993047 ,   -3.2593598],\n",
       "       [-539.151    ,  124.19071  ,   31.638233 , ...,   35.975502 ,\n",
       "          16.460072 ,    1.4680022],\n",
       "       ...,\n",
       "       [-415.20203  ,  130.79768  ,   27.871264 , ...,   12.0982065,\n",
       "          14.209072 ,   15.923146 ],\n",
       "       [-525.6591   ,  109.39722  ,   19.225296 , ...,   39.64732  ,\n",
       "          29.605762 ,   18.953228 ],\n",
       "       [-297.05402  ,   25.756916 ,   13.8266   , ...,   -1.2488215,\n",
       "          -1.764624 ,    3.691428 ]], dtype=float32)"
      ]
     },
     "execution_count": 12,
     "metadata": {},
     "output_type": "execute_result"
    }
   ],
   "source": [
    "X"
   ]
  },
  {
   "cell_type": "code",
   "execution_count": 14,
   "id": "a16954be",
   "metadata": {},
   "outputs": [
    {
     "data": {
      "text/plain": [
       "scipy.sparse._csr.csr_matrix"
      ]
     },
     "execution_count": 14,
     "metadata": {},
     "output_type": "execute_result"
    }
   ],
   "source": [
    "from sklearn.preprocessing import OneHotEncoder\n",
    "enc = OneHotEncoder()\n",
    "y = enc.fit_transform(df[['label']])\n",
    "type(y)"
   ]
  },
  {
   "cell_type": "code",
   "execution_count": 15,
   "id": "a3d83374",
   "metadata": {},
   "outputs": [
    {
     "data": {
      "text/plain": [
       "(2800, 7)"
      ]
     },
     "execution_count": 15,
     "metadata": {},
     "output_type": "execute_result"
    }
   ],
   "source": [
    "y.shape"
   ]
  },
  {
   "cell_type": "code",
   "execution_count": 16,
   "id": "deeb04d9",
   "metadata": {},
   "outputs": [
    {
     "data": {
      "text/plain": [
       "(2800, 7)"
      ]
     },
     "execution_count": 16,
     "metadata": {},
     "output_type": "execute_result"
    }
   ],
   "source": [
    "y = y.toarray()\n",
    "y.shape"
   ]
  },
  {
   "cell_type": "code",
   "execution_count": 17,
   "id": "4caa5928",
   "metadata": {},
   "outputs": [
    {
     "data": {
      "text/plain": [
       "numpy.ndarray"
      ]
     },
     "execution_count": 17,
     "metadata": {},
     "output_type": "execute_result"
    }
   ],
   "source": [
    "type(y)"
   ]
  },
  {
   "cell_type": "code",
   "execution_count": 18,
   "id": "bdfcff57",
   "metadata": {},
   "outputs": [
    {
     "name": "stdout",
     "output_type": "stream",
     "text": [
      "Model: \"sequential\"\n",
      "_________________________________________________________________\n",
      " Layer (type)                Output Shape              Param #   \n",
      "=================================================================\n",
      " lstm (LSTM)                 (None, 256)               264192    \n",
      "                                                                 \n",
      " dropout (Dropout)           (None, 256)               0         \n",
      "                                                                 \n",
      " dense (Dense)               (None, 128)               32896     \n",
      "                                                                 \n",
      " dropout_1 (Dropout)         (None, 128)               0         \n",
      "                                                                 \n",
      " dense_1 (Dense)             (None, 64)                8256      \n",
      "                                                                 \n",
      " dropout_2 (Dropout)         (None, 64)                0         \n",
      "                                                                 \n",
      " dense_2 (Dense)             (None, 7)                 455       \n",
      "                                                                 \n",
      "=================================================================\n",
      "Total params: 305,799\n",
      "Trainable params: 305,799\n",
      "Non-trainable params: 0\n",
      "_________________________________________________________________\n"
     ]
    }
   ],
   "source": [
    "model = Sequential([\n",
    "    LSTM(256, return_sequences=False, input_shape=(40,1)),\n",
    "    Dropout(0.2),\n",
    "    Dense(128, activation='relu'),\n",
    "    Dropout(0.2),\n",
    "    Dense(64, activation='relu'),\n",
    "    Dropout(0.2),\n",
    "    Dense(7, activation='softmax')\n",
    "])\n",
    "\n",
    "model.compile(loss='categorical_crossentropy', optimizer='adam', metrics=['accuracy'])\n",
    "model.summary()"
   ]
  },
  {
   "cell_type": "code",
   "execution_count": 23,
   "id": "b353d932",
   "metadata": {},
   "outputs": [],
   "source": [
    "from sklearn.model_selection import train_test_split"
   ]
  },
  {
   "cell_type": "code",
   "execution_count": 24,
   "id": "e1af6329",
   "metadata": {},
   "outputs": [
    {
     "name": "stdout",
     "output_type": "stream",
     "text": [
      "(2800, 40) (2240, 40) (560, 40) (2240,) (560,)\n"
     ]
    }
   ],
   "source": [
    "x_train, x_test, y_train, y_test = train_test_split(X, y, test_size = 0.2, random_state = 1)\n",
    "print(X.shape, x_train.shape, x_test.shape, y_train.shape, y_test.shape)"
   ]
  },
  {
   "cell_type": "code",
   "execution_count": 19,
   "id": "cb810fac",
   "metadata": {},
   "outputs": [
    {
     "name": "stdout",
     "output_type": "stream",
     "text": [
      "Epoch 1/50\n",
      "35/35 [==============================] - 4s 83ms/step - loss: 1.1917 - accuracy: 0.5344 - val_loss: 0.4964 - val_accuracy: 0.8429\n",
      "Epoch 2/50\n",
      "35/35 [==============================] - 3s 73ms/step - loss: 0.4091 - accuracy: 0.8589 - val_loss: 0.2085 - val_accuracy: 0.9232\n",
      "Epoch 3/50\n",
      "35/35 [==============================] - 2s 71ms/step - loss: 0.1966 - accuracy: 0.9379 - val_loss: 0.1739 - val_accuracy: 0.9393\n",
      "Epoch 4/50\n",
      "35/35 [==============================] - 3s 72ms/step - loss: 0.1569 - accuracy: 0.9504 - val_loss: 0.1844 - val_accuracy: 0.9518\n",
      "Epoch 5/50\n",
      "35/35 [==============================] - 3s 78ms/step - loss: 0.1816 - accuracy: 0.9429 - val_loss: 0.1783 - val_accuracy: 0.9518\n",
      "Epoch 6/50\n",
      "35/35 [==============================] - 3s 73ms/step - loss: 0.1083 - accuracy: 0.9670 - val_loss: 0.1908 - val_accuracy: 0.9375\n",
      "Epoch 7/50\n",
      "35/35 [==============================] - 2s 70ms/step - loss: 0.1194 - accuracy: 0.9670 - val_loss: 0.1571 - val_accuracy: 0.9536\n",
      "Epoch 8/50\n",
      "35/35 [==============================] - 2s 71ms/step - loss: 0.1081 - accuracy: 0.9665 - val_loss: 0.2524 - val_accuracy: 0.9321\n",
      "Epoch 9/50\n",
      "35/35 [==============================] - 2s 70ms/step - loss: 0.1559 - accuracy: 0.9513 - val_loss: 0.1266 - val_accuracy: 0.9607\n",
      "Epoch 10/50\n",
      "35/35 [==============================] - 2s 71ms/step - loss: 0.0669 - accuracy: 0.9830 - val_loss: 0.2090 - val_accuracy: 0.9482\n",
      "Epoch 11/50\n",
      "35/35 [==============================] - 2s 71ms/step - loss: 0.0755 - accuracy: 0.9746 - val_loss: 0.0954 - val_accuracy: 0.9696\n",
      "Epoch 12/50\n",
      "35/35 [==============================] - 2s 71ms/step - loss: 0.0598 - accuracy: 0.9799 - val_loss: 0.1359 - val_accuracy: 0.9643\n",
      "Epoch 13/50\n",
      "35/35 [==============================] - 2s 71ms/step - loss: 0.0727 - accuracy: 0.9768 - val_loss: 0.0931 - val_accuracy: 0.9696\n",
      "Epoch 14/50\n",
      "35/35 [==============================] - 2s 71ms/step - loss: 0.0663 - accuracy: 0.9754 - val_loss: 0.1148 - val_accuracy: 0.9661\n",
      "Epoch 15/50\n",
      "35/35 [==============================] - 2s 70ms/step - loss: 0.0480 - accuracy: 0.9857 - val_loss: 0.0956 - val_accuracy: 0.9679\n",
      "Epoch 16/50\n",
      "35/35 [==============================] - 2s 70ms/step - loss: 0.0519 - accuracy: 0.9848 - val_loss: 0.1044 - val_accuracy: 0.9679\n",
      "Epoch 17/50\n",
      "35/35 [==============================] - 3s 72ms/step - loss: 0.0507 - accuracy: 0.9830 - val_loss: 0.1608 - val_accuracy: 0.9536\n",
      "Epoch 18/50\n",
      "35/35 [==============================] - 2s 70ms/step - loss: 0.0541 - accuracy: 0.9821 - val_loss: 0.1790 - val_accuracy: 0.9643\n",
      "Epoch 19/50\n",
      "35/35 [==============================] - 2s 71ms/step - loss: 0.0681 - accuracy: 0.9754 - val_loss: 0.0823 - val_accuracy: 0.9821\n",
      "Epoch 20/50\n",
      "35/35 [==============================] - 2s 70ms/step - loss: 0.0318 - accuracy: 0.9902 - val_loss: 0.0784 - val_accuracy: 0.9804\n",
      "Epoch 21/50\n",
      "35/35 [==============================] - 3s 72ms/step - loss: 0.0322 - accuracy: 0.9906 - val_loss: 0.0923 - val_accuracy: 0.9732\n",
      "Epoch 22/50\n",
      "35/35 [==============================] - 2s 70ms/step - loss: 0.0210 - accuracy: 0.9933 - val_loss: 0.1152 - val_accuracy: 0.9696\n",
      "Epoch 23/50\n",
      "35/35 [==============================] - 2s 71ms/step - loss: 0.0408 - accuracy: 0.9888 - val_loss: 0.1808 - val_accuracy: 0.9607\n",
      "Epoch 24/50\n",
      "35/35 [==============================] - 2s 70ms/step - loss: 0.0733 - accuracy: 0.9772 - val_loss: 0.0965 - val_accuracy: 0.9750\n",
      "Epoch 25/50\n",
      "35/35 [==============================] - 2s 71ms/step - loss: 0.0354 - accuracy: 0.9906 - val_loss: 0.1065 - val_accuracy: 0.9714\n",
      "Epoch 26/50\n",
      "35/35 [==============================] - 2s 71ms/step - loss: 0.0346 - accuracy: 0.9888 - val_loss: 0.0948 - val_accuracy: 0.9750\n",
      "Epoch 27/50\n",
      "35/35 [==============================] - 2s 71ms/step - loss: 0.0387 - accuracy: 0.9875 - val_loss: 0.1824 - val_accuracy: 0.9589\n",
      "Epoch 28/50\n",
      "35/35 [==============================] - 2s 71ms/step - loss: 0.0429 - accuracy: 0.9857 - val_loss: 0.1331 - val_accuracy: 0.9661\n",
      "Epoch 29/50\n",
      "35/35 [==============================] - 3s 72ms/step - loss: 0.0420 - accuracy: 0.9857 - val_loss: 0.1422 - val_accuracy: 0.9714\n",
      "Epoch 30/50\n",
      "35/35 [==============================] - 3s 72ms/step - loss: 0.0341 - accuracy: 0.9911 - val_loss: 0.0823 - val_accuracy: 0.9714\n",
      "Epoch 31/50\n",
      "35/35 [==============================] - 2s 71ms/step - loss: 0.0134 - accuracy: 0.9946 - val_loss: 0.1031 - val_accuracy: 0.9768\n",
      "Epoch 32/50\n",
      "35/35 [==============================] - 3s 73ms/step - loss: 0.0355 - accuracy: 0.9884 - val_loss: 0.0916 - val_accuracy: 0.9732\n",
      "Epoch 33/50\n",
      "35/35 [==============================] - 3s 72ms/step - loss: 0.0167 - accuracy: 0.9951 - val_loss: 0.1089 - val_accuracy: 0.9804\n",
      "Epoch 34/50\n",
      "35/35 [==============================] - 3s 72ms/step - loss: 0.0112 - accuracy: 0.9960 - val_loss: 0.1385 - val_accuracy: 0.9679\n",
      "Epoch 35/50\n",
      "35/35 [==============================] - 2s 71ms/step - loss: 0.0703 - accuracy: 0.9821 - val_loss: 0.1676 - val_accuracy: 0.9571\n",
      "Epoch 36/50\n",
      "35/35 [==============================] - 3s 72ms/step - loss: 0.0370 - accuracy: 0.9920 - val_loss: 0.0857 - val_accuracy: 0.9804\n",
      "Epoch 37/50\n",
      "35/35 [==============================] - 2s 71ms/step - loss: 0.0276 - accuracy: 0.9906 - val_loss: 0.1043 - val_accuracy: 0.9750\n",
      "Epoch 38/50\n",
      "35/35 [==============================] - 2s 72ms/step - loss: 0.0323 - accuracy: 0.9897 - val_loss: 0.1524 - val_accuracy: 0.9696\n",
      "Epoch 39/50\n",
      "35/35 [==============================] - 3s 72ms/step - loss: 0.0270 - accuracy: 0.9924 - val_loss: 0.0847 - val_accuracy: 0.9821\n",
      "Epoch 40/50\n",
      "35/35 [==============================] - 3s 72ms/step - loss: 0.0229 - accuracy: 0.9915 - val_loss: 0.0875 - val_accuracy: 0.9804\n",
      "Epoch 41/50\n",
      "35/35 [==============================] - 3s 72ms/step - loss: 0.0043 - accuracy: 0.9991 - val_loss: 0.0555 - val_accuracy: 0.9857\n",
      "Epoch 42/50\n",
      "35/35 [==============================] - 3s 72ms/step - loss: 0.0036 - accuracy: 0.9991 - val_loss: 0.0915 - val_accuracy: 0.9821\n",
      "Epoch 43/50\n",
      "35/35 [==============================] - 2s 72ms/step - loss: 0.0024 - accuracy: 0.9996 - val_loss: 0.0793 - val_accuracy: 0.9804\n",
      "Epoch 44/50\n",
      "35/35 [==============================] - 2s 71ms/step - loss: 0.0068 - accuracy: 0.9982 - val_loss: 0.1713 - val_accuracy: 0.9607\n",
      "Epoch 45/50\n",
      "35/35 [==============================] - 3s 72ms/step - loss: 0.0532 - accuracy: 0.9871 - val_loss: 0.0867 - val_accuracy: 0.9786\n",
      "Epoch 46/50\n",
      "35/35 [==============================] - 2s 71ms/step - loss: 0.0212 - accuracy: 0.9946 - val_loss: 0.1202 - val_accuracy: 0.9786\n",
      "Epoch 47/50\n",
      "35/35 [==============================] - 3s 72ms/step - loss: 0.0223 - accuracy: 0.9920 - val_loss: 0.0797 - val_accuracy: 0.9750\n",
      "Epoch 48/50\n",
      "35/35 [==============================] - 2s 71ms/step - loss: 0.0447 - accuracy: 0.9857 - val_loss: 0.1011 - val_accuracy: 0.9696\n",
      "Epoch 49/50\n",
      "35/35 [==============================] - 3s 73ms/step - loss: 0.0203 - accuracy: 0.9946 - val_loss: 0.1112 - val_accuracy: 0.9679\n",
      "Epoch 50/50\n",
      "35/35 [==============================] - 2s 71ms/step - loss: 0.0247 - accuracy: 0.9920 - val_loss: 0.2038 - val_accuracy: 0.9554\n"
     ]
    }
   ],
   "source": [
    "history = model.fit(X, y, validation_split=0.2, epochs=50, batch_size=64)"
   ]
  },
  {
   "cell_type": "code",
   "execution_count": 20,
   "id": "c61c8b73",
   "metadata": {},
   "outputs": [
    {
     "data": {
      "image/png": "[encoded data removed]",
      "text/plain": [
       "<Figure size 432x288 with 1 Axes>"
      ]
     },
     "metadata": {
      "needs_background": "light"
     },
     "output_type": "display_data"
    }
   ],
   "source": [
    "epochs = list(range(50))\n",
    "acc = history.history['accuracy']\n",
    "val_acc = history.history['val_accuracy']\n",
    "\n",
    "plt.plot(epochs, acc, label='train accuracy')\n",
    "plt.plot(epochs, val_acc, label='val accuracy')\n",
    "plt.xlabel('epochs')\n",
    "plt.ylabel('accuracy')\n",
    "plt.legend()\n",
    "plt.show()"
   ]
  },
  {
   "cell_type": "code",
   "execution_count": 50,
   "id": "a1f48b03",
   "metadata": {},
   "outputs": [],
   "source": [
    "def to_format(filepath):\n",
    "    pred_extraction = extract_feat(filepath)\n",
    "    fomat = np.array(pred_extraction)\n",
    "    fomat = fomat.reshape(-1,1)\n",
    "    return fomat\n",
    "#df['audio'][0]\n",
    "#to_pred = to_format(df['audio'][0])\n",
    "#type(to_pred)"
   ]
  },
  {
   "cell_type": "code",
   "execution_count": 144,
   "id": "bd235649",
   "metadata": {},
   "outputs": [
    {
     "data": {
      "text/plain": [
       "array([[              -307.826477],\n",
       "       [                28.524830],\n",
       "       [               -29.723549],\n",
       "       [                33.847157],\n",
       "       [               -22.056015],\n",
       "       [                10.576652],\n",
       "       [                -6.646882],\n",
       "       [                -9.984513],\n",
       "       [                 2.618359],\n",
       "       [                -1.464032],\n",
       "       [               -10.082344],\n",
       "       [                12.475165],\n",
       "       [                -9.398715],\n",
       "       [                10.975546],\n",
       "       [                -3.751351],\n",
       "       [                -2.576631],\n",
       "       [                -3.866509],\n",
       "       [                -1.950035],\n",
       "       [               -10.655766],\n",
       "       [                -1.331545],\n",
       "       [                -8.847979],\n",
       "       [                -5.099771],\n",
       "       [                -3.584106],\n",
       "       [                 7.097256],\n",
       "       [                10.801182],\n",
       "       [                18.593822],\n",
       "       [                12.310085],\n",
       "       [                13.593747],\n",
       "       [                 5.839727],\n",
       "       [                 7.384404],\n",
       "       [                 3.069120],\n",
       "       [                 6.511447],\n",
       "       [                 1.259558],\n",
       "       [                 3.612061],\n",
       "       [                -2.596259],\n",
       "       [                 4.041758],\n",
       "       [                 1.774188],\n",
       "       [                -1.884812],\n",
       "       [                -5.264583],\n",
       "       [                -2.516969]], dtype=float32)"
      ]
     },
     "execution_count": 144,
     "metadata": {},
     "output_type": "execute_result"
    }
   ],
   "source": [
    "to_pred = to_format(df['audio'][0])\n",
    "to_pred"
   ]
  },
  {
   "cell_type": "code",
   "execution_count": 145,
   "id": "7d2ac0d6",
   "metadata": {},
   "outputs": [
    {
     "data": {
      "text/plain": [
       "(40, 1)"
      ]
     },
     "execution_count": 145,
     "metadata": {},
     "output_type": "execute_result"
    }
   ],
   "source": [
    "to_pred.shape"
   ]
  },
  {
   "cell_type": "code",
   "execution_count": 146,
   "id": "b2ae5cc3",
   "metadata": {},
   "outputs": [
    {
     "data": {
      "text/plain": [
       "(1, 40)"
      ]
     },
     "execution_count": 146,
     "metadata": {},
     "output_type": "execute_result"
    }
   ],
   "source": [
    "to_pred_transpose = to_pred.T\n",
    "to_pred_transpose.shape"
   ]
  },
  {
   "cell_type": "code",
   "execution_count": 147,
   "id": "a2c7beca",
   "metadata": {},
   "outputs": [
    {
     "name": "stdout",
     "output_type": "stream",
     "text": [
      "1/1 [==============================] - 0s 18ms/step\n",
      "[0]\n"
     ]
    }
   ],
   "source": [
    "y_pred = model.predict(to_pred_transpose)\n",
    "print(np.argmax(y_pred,axis= 1))"
   ]
  },
  {
   "cell_type": "code",
   "execution_count": 148,
   "id": "4a4c9727",
   "metadata": {},
   "outputs": [
    {
     "data": {
      "text/plain": [
       "array([[                 0.979089,                  0.000084,\n",
       "                         0.003339,                  0.016881,\n",
       "                         0.000005,                  0.000554,\n",
       "                         0.000047]], dtype=float32)"
      ]
     },
     "execution_count": 148,
     "metadata": {},
     "output_type": "execute_result"
    }
   ],
   "source": [
    "np.set_printoptions(formatter={'float_kind':'{:25f}'.format})\n",
    "y_pred"
   ]
  },
  {
   "cell_type": "code",
   "execution_count": 122,
   "id": "087d0afd",
   "metadata": {},
   "outputs": [
    {
     "data": {
      "text/html": [
       "<div>\n",
       "<style scoped>\n",
       "    .dataframe tbody tr th:only-of-type {\n",
       "        vertical-align: middle;\n",
       "    }\n",
       "\n",
       "    .dataframe tbody tr th {\n",
       "        vertical-align: top;\n",
       "    }\n",
       "\n",
       "    .dataframe thead th {\n",
       "        text-align: right;\n",
       "    }\n",
       "</style>\n",
       "<table border=\"1\" class=\"dataframe\">\n",
       "  <thead>\n",
       "    <tr style=\"text-align: right;\">\n",
       "      <th></th>\n",
       "      <th>audio</th>\n",
       "      <th>label</th>\n",
       "    </tr>\n",
       "  </thead>\n",
       "  <tbody>\n",
       "    <tr>\n",
       "      <th>2780</th>\n",
       "      <td>D:\\DS\\Song Emotion Recognition\\Speech Recog\\TE...</td>\n",
       "      <td>disgust</td>\n",
       "    </tr>\n",
       "    <tr>\n",
       "      <th>2781</th>\n",
       "      <td>D:\\DS\\Song Emotion Recognition\\Speech Recog\\TE...</td>\n",
       "      <td>ps</td>\n",
       "    </tr>\n",
       "    <tr>\n",
       "      <th>2782</th>\n",
       "      <td>D:\\DS\\Song Emotion Recognition\\Speech Recog\\TE...</td>\n",
       "      <td>neutral</td>\n",
       "    </tr>\n",
       "    <tr>\n",
       "      <th>2783</th>\n",
       "      <td>D:\\DS\\Song Emotion Recognition\\Speech Recog\\TE...</td>\n",
       "      <td>fear</td>\n",
       "    </tr>\n",
       "    <tr>\n",
       "      <th>2784</th>\n",
       "      <td>D:\\DS\\Song Emotion Recognition\\Speech Recog\\TE...</td>\n",
       "      <td>ps</td>\n",
       "    </tr>\n",
       "    <tr>\n",
       "      <th>2785</th>\n",
       "      <td>D:\\DS\\Song Emotion Recognition\\Speech Recog\\TE...</td>\n",
       "      <td>happy</td>\n",
       "    </tr>\n",
       "    <tr>\n",
       "      <th>2786</th>\n",
       "      <td>D:\\DS\\Song Emotion Recognition\\Speech Recog\\TE...</td>\n",
       "      <td>happy</td>\n",
       "    </tr>\n",
       "    <tr>\n",
       "      <th>2787</th>\n",
       "      <td>D:\\DS\\Song Emotion Recognition\\Speech Recog\\TE...</td>\n",
       "      <td>fear</td>\n",
       "    </tr>\n",
       "    <tr>\n",
       "      <th>2788</th>\n",
       "      <td>D:\\DS\\Song Emotion Recognition\\Speech Recog\\TE...</td>\n",
       "      <td>ps</td>\n",
       "    </tr>\n",
       "    <tr>\n",
       "      <th>2789</th>\n",
       "      <td>D:\\DS\\Song Emotion Recognition\\Speech Recog\\TE...</td>\n",
       "      <td>happy</td>\n",
       "    </tr>\n",
       "    <tr>\n",
       "      <th>2790</th>\n",
       "      <td>D:\\DS\\Song Emotion Recognition\\Speech Recog\\TE...</td>\n",
       "      <td>angry</td>\n",
       "    </tr>\n",
       "    <tr>\n",
       "      <th>2791</th>\n",
       "      <td>D:\\DS\\Song Emotion Recognition\\Speech Recog\\TE...</td>\n",
       "      <td>disgust</td>\n",
       "    </tr>\n",
       "    <tr>\n",
       "      <th>2792</th>\n",
       "      <td>D:\\DS\\Song Emotion Recognition\\Speech Recog\\TE...</td>\n",
       "      <td>sad</td>\n",
       "    </tr>\n",
       "    <tr>\n",
       "      <th>2793</th>\n",
       "      <td>D:\\DS\\Song Emotion Recognition\\Speech Recog\\TE...</td>\n",
       "      <td>disgust</td>\n",
       "    </tr>\n",
       "    <tr>\n",
       "      <th>2794</th>\n",
       "      <td>D:\\DS\\Song Emotion Recognition\\Speech Recog\\TE...</td>\n",
       "      <td>disgust</td>\n",
       "    </tr>\n",
       "    <tr>\n",
       "      <th>2795</th>\n",
       "      <td>D:\\DS\\Song Emotion Recognition\\Speech Recog\\TE...</td>\n",
       "      <td>happy</td>\n",
       "    </tr>\n",
       "    <tr>\n",
       "      <th>2796</th>\n",
       "      <td>D:\\DS\\Song Emotion Recognition\\Speech Recog\\TE...</td>\n",
       "      <td>neutral</td>\n",
       "    </tr>\n",
       "    <tr>\n",
       "      <th>2797</th>\n",
       "      <td>D:\\DS\\Song Emotion Recognition\\Speech Recog\\TE...</td>\n",
       "      <td>disgust</td>\n",
       "    </tr>\n",
       "    <tr>\n",
       "      <th>2798</th>\n",
       "      <td>D:\\DS\\Song Emotion Recognition\\Speech Recog\\TE...</td>\n",
       "      <td>neutral</td>\n",
       "    </tr>\n",
       "    <tr>\n",
       "      <th>2799</th>\n",
       "      <td>D:\\DS\\Song Emotion Recognition\\Speech Recog\\TE...</td>\n",
       "      <td>angry</td>\n",
       "    </tr>\n",
       "  </tbody>\n",
       "</table>\n",
       "</div>"
      ],
      "text/plain": [
       "                                                  audio    label\n",
       "2780  D:\\DS\\Song Emotion Recognition\\Speech Recog\\TE...  disgust\n",
       "2781  D:\\DS\\Song Emotion Recognition\\Speech Recog\\TE...       ps\n",
       "2782  D:\\DS\\Song Emotion Recognition\\Speech Recog\\TE...  neutral\n",
       "2783  D:\\DS\\Song Emotion Recognition\\Speech Recog\\TE...     fear\n",
       "2784  D:\\DS\\Song Emotion Recognition\\Speech Recog\\TE...       ps\n",
       "2785  D:\\DS\\Song Emotion Recognition\\Speech Recog\\TE...    happy\n",
       "2786  D:\\DS\\Song Emotion Recognition\\Speech Recog\\TE...    happy\n",
       "2787  D:\\DS\\Song Emotion Recognition\\Speech Recog\\TE...     fear\n",
       "2788  D:\\DS\\Song Emotion Recognition\\Speech Recog\\TE...       ps\n",
       "2789  D:\\DS\\Song Emotion Recognition\\Speech Recog\\TE...    happy\n",
       "2790  D:\\DS\\Song Emotion Recognition\\Speech Recog\\TE...    angry\n",
       "2791  D:\\DS\\Song Emotion Recognition\\Speech Recog\\TE...  disgust\n",
       "2792  D:\\DS\\Song Emotion Recognition\\Speech Recog\\TE...      sad\n",
       "2793  D:\\DS\\Song Emotion Recognition\\Speech Recog\\TE...  disgust\n",
       "2794  D:\\DS\\Song Emotion Recognition\\Speech Recog\\TE...  disgust\n",
       "2795  D:\\DS\\Song Emotion Recognition\\Speech Recog\\TE...    happy\n",
       "2796  D:\\DS\\Song Emotion Recognition\\Speech Recog\\TE...  neutral\n",
       "2797  D:\\DS\\Song Emotion Recognition\\Speech Recog\\TE...  disgust\n",
       "2798  D:\\DS\\Song Emotion Recognition\\Speech Recog\\TE...  neutral\n",
       "2799  D:\\DS\\Song Emotion Recognition\\Speech Recog\\TE...    angry"
      ]
     },
     "execution_count": 122,
     "metadata": {},
     "output_type": "execute_result"
    }
   ],
   "source": [
    "df.tail(20)"
   ]
  },
  {
   "cell_type": "code",
   "execution_count": 117,
   "id": "6ec86725",
   "metadata": {},
   "outputs": [
    {
     "data": {
      "text/html": [
       "<div>\n",
       "<style scoped>\n",
       "    .dataframe tbody tr th:only-of-type {\n",
       "        vertical-align: middle;\n",
       "    }\n",
       "\n",
       "    .dataframe tbody tr th {\n",
       "        vertical-align: top;\n",
       "    }\n",
       "\n",
       "    .dataframe thead th {\n",
       "        text-align: right;\n",
       "    }\n",
       "</style>\n",
       "<table border=\"1\" class=\"dataframe\">\n",
       "  <thead>\n",
       "    <tr style=\"text-align: right;\">\n",
       "      <th></th>\n",
       "      <th>audio</th>\n",
       "      <th>label</th>\n",
       "    </tr>\n",
       "  </thead>\n",
       "  <tbody>\n",
       "    <tr>\n",
       "      <th>0</th>\n",
       "      <td>D:\\DS\\Song Emotion Recognition\\Speech Recog\\TE...</td>\n",
       "      <td>happy</td>\n",
       "    </tr>\n",
       "    <tr>\n",
       "      <th>1</th>\n",
       "      <td>D:\\DS\\Song Emotion Recognition\\Speech Recog\\TE...</td>\n",
       "      <td>neutral</td>\n",
       "    </tr>\n",
       "    <tr>\n",
       "      <th>2</th>\n",
       "      <td>D:\\DS\\Song Emotion Recognition\\Speech Recog\\TE...</td>\n",
       "      <td>neutral</td>\n",
       "    </tr>\n",
       "    <tr>\n",
       "      <th>3</th>\n",
       "      <td>D:\\DS\\Song Emotion Recognition\\Speech Recog\\TE...</td>\n",
       "      <td>angry</td>\n",
       "    </tr>\n",
       "    <tr>\n",
       "      <th>4</th>\n",
       "      <td>D:\\DS\\Song Emotion Recognition\\Speech Recog\\TE...</td>\n",
       "      <td>disgust</td>\n",
       "    </tr>\n",
       "    <tr>\n",
       "      <th>5</th>\n",
       "      <td>D:\\DS\\Song Emotion Recognition\\Speech Recog\\TE...</td>\n",
       "      <td>neutral</td>\n",
       "    </tr>\n",
       "    <tr>\n",
       "      <th>6</th>\n",
       "      <td>D:\\DS\\Song Emotion Recognition\\Speech Recog\\TE...</td>\n",
       "      <td>neutral</td>\n",
       "    </tr>\n",
       "    <tr>\n",
       "      <th>7</th>\n",
       "      <td>D:\\DS\\Song Emotion Recognition\\Speech Recog\\TE...</td>\n",
       "      <td>neutral</td>\n",
       "    </tr>\n",
       "    <tr>\n",
       "      <th>8</th>\n",
       "      <td>D:\\DS\\Song Emotion Recognition\\Speech Recog\\TE...</td>\n",
       "      <td>happy</td>\n",
       "    </tr>\n",
       "    <tr>\n",
       "      <th>9</th>\n",
       "      <td>D:\\DS\\Song Emotion Recognition\\Speech Recog\\TE...</td>\n",
       "      <td>happy</td>\n",
       "    </tr>\n",
       "    <tr>\n",
       "      <th>10</th>\n",
       "      <td>D:\\DS\\Song Emotion Recognition\\Speech Recog\\TE...</td>\n",
       "      <td>ps</td>\n",
       "    </tr>\n",
       "    <tr>\n",
       "      <th>11</th>\n",
       "      <td>D:\\DS\\Song Emotion Recognition\\Speech Recog\\TE...</td>\n",
       "      <td>disgust</td>\n",
       "    </tr>\n",
       "    <tr>\n",
       "      <th>12</th>\n",
       "      <td>D:\\DS\\Song Emotion Recognition\\Speech Recog\\TE...</td>\n",
       "      <td>angry</td>\n",
       "    </tr>\n",
       "    <tr>\n",
       "      <th>13</th>\n",
       "      <td>D:\\DS\\Song Emotion Recognition\\Speech Recog\\TE...</td>\n",
       "      <td>angry</td>\n",
       "    </tr>\n",
       "    <tr>\n",
       "      <th>14</th>\n",
       "      <td>D:\\DS\\Song Emotion Recognition\\Speech Recog\\TE...</td>\n",
       "      <td>disgust</td>\n",
       "    </tr>\n",
       "    <tr>\n",
       "      <th>15</th>\n",
       "      <td>D:\\DS\\Song Emotion Recognition\\Speech Recog\\TE...</td>\n",
       "      <td>disgust</td>\n",
       "    </tr>\n",
       "    <tr>\n",
       "      <th>16</th>\n",
       "      <td>D:\\DS\\Song Emotion Recognition\\Speech Recog\\TE...</td>\n",
       "      <td>disgust</td>\n",
       "    </tr>\n",
       "    <tr>\n",
       "      <th>17</th>\n",
       "      <td>D:\\DS\\Song Emotion Recognition\\Speech Recog\\TE...</td>\n",
       "      <td>sad</td>\n",
       "    </tr>\n",
       "    <tr>\n",
       "      <th>18</th>\n",
       "      <td>D:\\DS\\Song Emotion Recognition\\Speech Recog\\TE...</td>\n",
       "      <td>angry</td>\n",
       "    </tr>\n",
       "    <tr>\n",
       "      <th>19</th>\n",
       "      <td>D:\\DS\\Song Emotion Recognition\\Speech Recog\\TE...</td>\n",
       "      <td>happy</td>\n",
       "    </tr>\n",
       "  </tbody>\n",
       "</table>\n",
       "</div>"
      ],
      "text/plain": [
       "                                                audio    label\n",
       "0   D:\\DS\\Song Emotion Recognition\\Speech Recog\\TE...    happy\n",
       "1   D:\\DS\\Song Emotion Recognition\\Speech Recog\\TE...  neutral\n",
       "2   D:\\DS\\Song Emotion Recognition\\Speech Recog\\TE...  neutral\n",
       "3   D:\\DS\\Song Emotion Recognition\\Speech Recog\\TE...    angry\n",
       "4   D:\\DS\\Song Emotion Recognition\\Speech Recog\\TE...  disgust\n",
       "5   D:\\DS\\Song Emotion Recognition\\Speech Recog\\TE...  neutral\n",
       "6   D:\\DS\\Song Emotion Recognition\\Speech Recog\\TE...  neutral\n",
       "7   D:\\DS\\Song Emotion Recognition\\Speech Recog\\TE...  neutral\n",
       "8   D:\\DS\\Song Emotion Recognition\\Speech Recog\\TE...    happy\n",
       "9   D:\\DS\\Song Emotion Recognition\\Speech Recog\\TE...    happy\n",
       "10  D:\\DS\\Song Emotion Recognition\\Speech Recog\\TE...       ps\n",
       "11  D:\\DS\\Song Emotion Recognition\\Speech Recog\\TE...  disgust\n",
       "12  D:\\DS\\Song Emotion Recognition\\Speech Recog\\TE...    angry\n",
       "13  D:\\DS\\Song Emotion Recognition\\Speech Recog\\TE...    angry\n",
       "14  D:\\DS\\Song Emotion Recognition\\Speech Recog\\TE...  disgust\n",
       "15  D:\\DS\\Song Emotion Recognition\\Speech Recog\\TE...  disgust\n",
       "16  D:\\DS\\Song Emotion Recognition\\Speech Recog\\TE...  disgust\n",
       "17  D:\\DS\\Song Emotion Recognition\\Speech Recog\\TE...      sad\n",
       "18  D:\\DS\\Song Emotion Recognition\\Speech Recog\\TE...    angry\n",
       "19  D:\\DS\\Song Emotion Recognition\\Speech Recog\\TE...    happy"
      ]
     },
     "execution_count": 117,
     "metadata": {},
     "output_type": "execute_result"
    }
   ],
   "source": [
    "df.head(20)"
   ]
  },
  {
   "cell_type": "markdown",
   "id": "24045625",
   "metadata": {},
   "source": [
    "### 0 - Happy/Energetic/Angry, 1 - Disgust, 2 - Fear, 3 - Angry, 4 - Neutral, 5 - Pleasant Surprise, 6 - Sad"
   ]
  },
  {
   "cell_type": "code",
   "execution_count": 150,
   "id": "570577b9",
   "metadata": {},
   "outputs": [],
   "source": [
    "#Final Function\n",
    "\n",
    "#Returns numerical features \n",
    "def feature_extraction(filepath):\n",
    "    y, sr = librosa.load(filepath, duration=3, offset=0.5)\n",
    "    mfcc = np.mean(librosa.feature.mfcc(y=y, sr=sr, n_mfcc=40).T, axis=0)\n",
    "    return mfcc\n",
    "\n",
    "#Returns converted format of the .wav file which can be used for prediction\n",
    "def format_converter(filepath):\n",
    "    pred_extraction = extract_feat(filepath)\n",
    "    fomat = np.array(pred_extraction)\n",
    "    fomat = fomat.reshape(-1,1)\n",
    "    return fomat\n",
    "\n",
    "#Predicts the emotion and returns integer corresponding to it\n",
    "#All compiled. Final function to be used\n",
    "#Can be modified to take model as an argument too. Using Globally declared model for testing\n",
    "def predict_emotion(filepath):\n",
    "    to_pred = format_converter(filepath)\n",
    "    to_pred = to_pred.T\n",
    "    y_pred = model.predict(to_pred)\n",
    "    emotion = np.argmax(y_pred,axis = 1)\n",
    "    return emotion, y_pred[emotion]"
   ]
  },
  {
   "cell_type": "code",
   "execution_count": 138,
   "id": "b61e0678",
   "metadata": {},
   "outputs": [
    {
     "name": "stderr",
     "output_type": "stream",
     "text": [
      "WARNING:absl:Found untraced functions such as lstm_cell_layer_call_fn, lstm_cell_layer_call_and_return_conditional_losses while saving (showing 2 of 2). These functions will not be directly callable after loading.\n"
     ]
    },
    {
     "name": "stdout",
     "output_type": "stream",
     "text": [
      "INFO:tensorflow:Assets written to: ram://3993a482-46ca-4116-922c-91eefa36eb8f/assets\n"
     ]
    },
    {
     "name": "stderr",
     "output_type": "stream",
     "text": [
      "INFO:tensorflow:Assets written to: ram://3993a482-46ca-4116-922c-91eefa36eb8f/assets\n"
     ]
    }
   ],
   "source": [
    "import pickle\n",
    "pickle.dump(model, open('model.pkl', 'wb'))"
   ]
  },
  {
   "cell_type": "markdown",
   "id": "afbb6924",
   "metadata": {},
   "source": [
    "### How to use the pipeline"
   ]
  },
  {
   "cell_type": "code",
   "execution_count": 151,
   "id": "851b49be",
   "metadata": {},
   "outputs": [
    {
     "name": "stdout",
     "output_type": "stream",
     "text": [
      "1/1 [==============================] - 0s 33ms/step\n"
     ]
    },
    {
     "data": {
      "text/plain": [
       "(array([0], dtype=int64),\n",
       " array([[                 0.979089,                  0.000084,\n",
       "                          0.003339,                  0.016881,\n",
       "                          0.000005,                  0.000554,\n",
       "                          0.000047]], dtype=float32))"
      ]
     },
     "execution_count": 151,
     "metadata": {},
     "output_type": "execute_result"
    }
   ],
   "source": [
    "#Just run the function. \n",
    "predict_emotion(df['audio'][0])\n",
    "#Add switch case statement for "
   ]
  }
 ],
 "metadata": {
  "kernelspec": {
   "display_name": "song",
   "language": "python",
   "name": "song"
  },
  "language_info": {
   "codemirror_mode": {
    "name": "ipython",
    "version": 3
   },
   "file_extension": ".py",
   "mimetype": "text/x-python",
   "name": "python",
   "nbconvert_exporter": "python",
   "pygments_lexer": "ipython3",
   "version": "3.10.2"
  }
 },
 "nbformat": 4,
 "nbformat_minor": 5
}
